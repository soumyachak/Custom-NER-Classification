{
  "cells": [
    {
      "cell_type": "markdown",
      "metadata": {
        "id": "c_sH7vHLZ4Lj"
      },
      "source": [
        "## Import Libraries "
      ]
    },
    {
      "cell_type": "code",
      "execution_count": 41,
      "metadata": {
        "id": "47F174tEZ9eI"
      },
      "outputs": [],
      "source": [
        "# Install and  Import the required libraries\n",
        "import pandas as pd\n",
        "import spacy\n",
        "from spacy.tokens import DocBin\n",
        "from tqdm import tqdm\n",
        "from spacy.util import filter_spans\n",
        "\n",
        "nlp = spacy.load(\"en_core_web_sm\")\n",
        "nlp.disable_pipe(\"parser\")\n",
        "doc_bin = DocBin() # create a DocBin object"
      ]
    },
    {
      "cell_type": "markdown",
      "metadata": {
        "id": "hwGtum9CZ_1W"
      },
      "source": [
        "## Training data Preparation"
      ]
    },
    {
      "cell_type": "code",
      "execution_count": 42,
      "metadata": {
        "colab": {
          "base_uri": "https://localhost:8080/"
        },
        "id": "h0uLlKPOfvaw",
        "outputId": "2f3875b0-4279-420c-8c4d-8aa20aaa2340"
      },
      "outputs": [
        {
          "name": "stdout",
          "output_type": "stream",
          "text": [
            "Drive already mounted at /content/drive; to attempt to forcibly remount, call drive.mount(\"/content/drive\", force_remount=True).\n"
          ]
        }
      ],
      "source": [
        "from google.colab import drive\n",
        "drive.mount('/content/drive')"
      ]
    },
    {
      "cell_type": "code",
      "execution_count": 43,
      "metadata": {
        "colab": {
          "base_uri": "https://localhost:8080/",
          "height": 206
        },
        "id": "UpMnwKu2tKv6",
        "outputId": "2826a0dc-f6ed-436d-8f2e-c6c05e879f26"
      },
      "outputs": [
        {
          "data": {
            "text/html": [
              "\n",
              "  <div id=\"df-c1aa118c-8098-4caa-8e17-93fae0e7876d\">\n",
              "    <div class=\"colab-df-container\">\n",
              "      <div>\n",
              "<style scoped>\n",
              "    .dataframe tbody tr th:only-of-type {\n",
              "        vertical-align: middle;\n",
              "    }\n",
              "\n",
              "    .dataframe tbody tr th {\n",
              "        vertical-align: top;\n",
              "    }\n",
              "\n",
              "    .dataframe thead th {\n",
              "        text-align: right;\n",
              "    }\n",
              "</style>\n",
              "<table border=\"1\" class=\"dataframe\">\n",
              "  <thead>\n",
              "    <tr style=\"text-align: right;\">\n",
              "      <th></th>\n",
              "      <th>Sentence</th>\n",
              "      <th>tag</th>\n",
              "      <th>token</th>\n",
              "    </tr>\n",
              "  </thead>\n",
              "  <tbody>\n",
              "    <tr>\n",
              "      <th>0</th>\n",
              "      <td>Sentence:0</td>\n",
              "      <td>O</td>\n",
              "      <td>what</td>\n",
              "    </tr>\n",
              "    <tr>\n",
              "      <th>1</th>\n",
              "      <td>Sentence:0</td>\n",
              "      <td>O</td>\n",
              "      <td>movies</td>\n",
              "    </tr>\n",
              "    <tr>\n",
              "      <th>2</th>\n",
              "      <td>Sentence:0</td>\n",
              "      <td>O</td>\n",
              "      <td>star</td>\n",
              "    </tr>\n",
              "    <tr>\n",
              "      <th>3</th>\n",
              "      <td>Sentence:0</td>\n",
              "      <td>B-ACTOR</td>\n",
              "      <td>bruce</td>\n",
              "    </tr>\n",
              "    <tr>\n",
              "      <th>4</th>\n",
              "      <td>Sentence:0</td>\n",
              "      <td>I-ACTOR</td>\n",
              "      <td>willis</td>\n",
              "    </tr>\n",
              "  </tbody>\n",
              "</table>\n",
              "</div>\n",
              "      <button class=\"colab-df-convert\" onclick=\"convertToInteractive('df-c1aa118c-8098-4caa-8e17-93fae0e7876d')\"\n",
              "              title=\"Convert this dataframe to an interactive table.\"\n",
              "              style=\"display:none;\">\n",
              "        \n",
              "  <svg xmlns=\"http://www.w3.org/2000/svg\" height=\"24px\"viewBox=\"0 0 24 24\"\n",
              "       width=\"24px\">\n",
              "    <path d=\"M0 0h24v24H0V0z\" fill=\"none\"/>\n",
              "    <path d=\"M18.56 5.44l.94 2.06.94-2.06 2.06-.94-2.06-.94-.94-2.06-.94 2.06-2.06.94zm-11 1L8.5 8.5l.94-2.06 2.06-.94-2.06-.94L8.5 2.5l-.94 2.06-2.06.94zm10 10l.94 2.06.94-2.06 2.06-.94-2.06-.94-.94-2.06-.94 2.06-2.06.94z\"/><path d=\"M17.41 7.96l-1.37-1.37c-.4-.4-.92-.59-1.43-.59-.52 0-1.04.2-1.43.59L10.3 9.45l-7.72 7.72c-.78.78-.78 2.05 0 2.83L4 21.41c.39.39.9.59 1.41.59.51 0 1.02-.2 1.41-.59l7.78-7.78 2.81-2.81c.8-.78.8-2.07 0-2.86zM5.41 20L4 18.59l7.72-7.72 1.47 1.35L5.41 20z\"/>\n",
              "  </svg>\n",
              "      </button>\n",
              "      \n",
              "  <style>\n",
              "    .colab-df-container {\n",
              "      display:flex;\n",
              "      flex-wrap:wrap;\n",
              "      gap: 12px;\n",
              "    }\n",
              "\n",
              "    .colab-df-convert {\n",
              "      background-color: #E8F0FE;\n",
              "      border: none;\n",
              "      border-radius: 50%;\n",
              "      cursor: pointer;\n",
              "      display: none;\n",
              "      fill: #1967D2;\n",
              "      height: 32px;\n",
              "      padding: 0 0 0 0;\n",
              "      width: 32px;\n",
              "    }\n",
              "\n",
              "    .colab-df-convert:hover {\n",
              "      background-color: #E2EBFA;\n",
              "      box-shadow: 0px 1px 2px rgba(60, 64, 67, 0.3), 0px 1px 3px 1px rgba(60, 64, 67, 0.15);\n",
              "      fill: #174EA6;\n",
              "    }\n",
              "\n",
              "    [theme=dark] .colab-df-convert {\n",
              "      background-color: #3B4455;\n",
              "      fill: #D2E3FC;\n",
              "    }\n",
              "\n",
              "    [theme=dark] .colab-df-convert:hover {\n",
              "      background-color: #434B5C;\n",
              "      box-shadow: 0px 1px 3px 1px rgba(0, 0, 0, 0.15);\n",
              "      filter: drop-shadow(0px 1px 2px rgba(0, 0, 0, 0.3));\n",
              "      fill: #FFFFFF;\n",
              "    }\n",
              "  </style>\n",
              "\n",
              "      <script>\n",
              "        const buttonEl =\n",
              "          document.querySelector('#df-c1aa118c-8098-4caa-8e17-93fae0e7876d button.colab-df-convert');\n",
              "        buttonEl.style.display =\n",
              "          google.colab.kernel.accessAllowed ? 'block' : 'none';\n",
              "\n",
              "        async function convertToInteractive(key) {\n",
              "          const element = document.querySelector('#df-c1aa118c-8098-4caa-8e17-93fae0e7876d');\n",
              "          const dataTable =\n",
              "            await google.colab.kernel.invokeFunction('convertToInteractive',\n",
              "                                                     [key], {});\n",
              "          if (!dataTable) return;\n",
              "\n",
              "          const docLinkHtml = 'Like what you see? Visit the ' +\n",
              "            '<a target=\"_blank\" href=https://colab.research.google.com/notebooks/data_table.ipynb>data table notebook</a>'\n",
              "            + ' to learn more about interactive tables.';\n",
              "          element.innerHTML = '';\n",
              "          dataTable['output_type'] = 'display_data';\n",
              "          await google.colab.output.renderOutput(dataTable, element);\n",
              "          const docLink = document.createElement('div');\n",
              "          docLink.innerHTML = docLinkHtml;\n",
              "          element.appendChild(docLink);\n",
              "        }\n",
              "      </script>\n",
              "    </div>\n",
              "  </div>\n",
              "  "
            ],
            "text/plain": [
              "     Sentence      tag   token\n",
              "0  Sentence:0        O    what\n",
              "1  Sentence:0        O  movies\n",
              "2  Sentence:0        O    star\n",
              "3  Sentence:0  B-ACTOR   bruce\n",
              "4  Sentence:0  I-ACTOR  willis"
            ]
          },
          "execution_count": 43,
          "metadata": {},
          "output_type": "execute_result"
        }
      ],
      "source": [
        "df = pd.DataFrame(columns=[\"Sentence\", \"tag\", \"token\"])\n",
        "train = open(\"/content/drive/MyDrive/Untitled folder/ner_train.txt\", \"r\")\n",
        "\n",
        "idx = 0\n",
        "sent = 0\n",
        "for line in train:\n",
        "    if line==\"\\n\":\n",
        "        sent = sent+1\n",
        "    else:\n",
        "        val = line.split(\"\\t\")\n",
        "        df = pd.concat([df, pd.DataFrame({\"Sentence\": \"Sentence:\" + str(sent) , \"tag\": val[0], \"token\": val[1][:-1]}, index=[idx])], axis=0)\n",
        "        idx=idx+1\n",
        "\n",
        "df.head()"
      ]
    },
    {
      "cell_type": "code",
      "execution_count": 52,
      "metadata": {
        "colab": {
          "base_uri": "https://localhost:8080/",
          "height": 351
        },
        "id": "bix39PS5tKv7",
        "outputId": "b29446b0-4aa5-4469-f63f-16780a92e413"
      },
      "outputs": [
        {
          "data": {
            "text/html": [
              "\n",
              "  <div id=\"df-893db1b7-cd5a-42fd-a4cc-46dd1602b426\">\n",
              "    <div class=\"colab-df-container\">\n",
              "      <div>\n",
              "<style scoped>\n",
              "    .dataframe tbody tr th:only-of-type {\n",
              "        vertical-align: middle;\n",
              "    }\n",
              "\n",
              "    .dataframe tbody tr th {\n",
              "        vertical-align: top;\n",
              "    }\n",
              "\n",
              "    .dataframe thead th {\n",
              "        text-align: right;\n",
              "    }\n",
              "</style>\n",
              "<table border=\"1\" class=\"dataframe\">\n",
              "  <thead>\n",
              "    <tr style=\"text-align: right;\">\n",
              "      <th></th>\n",
              "      <th>tag</th>\n",
              "      <th>token</th>\n",
              "      <th>sent</th>\n",
              "    </tr>\n",
              "    <tr>\n",
              "      <th>Sentence</th>\n",
              "      <th></th>\n",
              "      <th></th>\n",
              "      <th></th>\n",
              "    </tr>\n",
              "  </thead>\n",
              "  <tbody>\n",
              "    <tr>\n",
              "      <th>Sentence:0</th>\n",
              "      <td>[O, O, O, B-ACTOR, I-ACTOR]</td>\n",
              "      <td>[what, movies, star, bruce, willis]</td>\n",
              "      <td>what movies star bruce willis</td>\n",
              "    </tr>\n",
              "    <tr>\n",
              "      <th>Sentence:1</th>\n",
              "      <td>[O, O, O, O, B-ACTOR, I-ACTOR, O, O, B-YEAR]</td>\n",
              "      <td>[show, me, films, with, drew, barrymore, from,...</td>\n",
              "      <td>show me films with drew barrymore from the 1980s</td>\n",
              "    </tr>\n",
              "    <tr>\n",
              "      <th>Sentence:10</th>\n",
              "      <td>[O, O, O, O, B-PLOT]</td>\n",
              "      <td>[what, movie, is, references, zydrate]</td>\n",
              "      <td>what movie is references zydrate</td>\n",
              "    </tr>\n",
              "    <tr>\n",
              "      <th>Sentence:100</th>\n",
              "      <td>[O, O, O, B-RATINGS_AVERAGE, I-RATINGS_AVERAGE...</td>\n",
              "      <td>[what, is, the, top, rated, martin, scorsesy, ...</td>\n",
              "      <td>what is the top rated martin scorsesy moive</td>\n",
              "    </tr>\n",
              "    <tr>\n",
              "      <th>Sentence:1000</th>\n",
              "      <td>[O, O, O, B-ACTOR, I-ACTOR, O, O]</td>\n",
              "      <td>[show, me, a, christopher, lee, movie, trailer]</td>\n",
              "      <td>show me a christopher lee movie trailer</td>\n",
              "    </tr>\n",
              "  </tbody>\n",
              "</table>\n",
              "</div>\n",
              "      <button class=\"colab-df-convert\" onclick=\"convertToInteractive('df-893db1b7-cd5a-42fd-a4cc-46dd1602b426')\"\n",
              "              title=\"Convert this dataframe to an interactive table.\"\n",
              "              style=\"display:none;\">\n",
              "        \n",
              "  <svg xmlns=\"http://www.w3.org/2000/svg\" height=\"24px\"viewBox=\"0 0 24 24\"\n",
              "       width=\"24px\">\n",
              "    <path d=\"M0 0h24v24H0V0z\" fill=\"none\"/>\n",
              "    <path d=\"M18.56 5.44l.94 2.06.94-2.06 2.06-.94-2.06-.94-.94-2.06-.94 2.06-2.06.94zm-11 1L8.5 8.5l.94-2.06 2.06-.94-2.06-.94L8.5 2.5l-.94 2.06-2.06.94zm10 10l.94 2.06.94-2.06 2.06-.94-2.06-.94-.94-2.06-.94 2.06-2.06.94z\"/><path d=\"M17.41 7.96l-1.37-1.37c-.4-.4-.92-.59-1.43-.59-.52 0-1.04.2-1.43.59L10.3 9.45l-7.72 7.72c-.78.78-.78 2.05 0 2.83L4 21.41c.39.39.9.59 1.41.59.51 0 1.02-.2 1.41-.59l7.78-7.78 2.81-2.81c.8-.78.8-2.07 0-2.86zM5.41 20L4 18.59l7.72-7.72 1.47 1.35L5.41 20z\"/>\n",
              "  </svg>\n",
              "      </button>\n",
              "      \n",
              "  <style>\n",
              "    .colab-df-container {\n",
              "      display:flex;\n",
              "      flex-wrap:wrap;\n",
              "      gap: 12px;\n",
              "    }\n",
              "\n",
              "    .colab-df-convert {\n",
              "      background-color: #E8F0FE;\n",
              "      border: none;\n",
              "      border-radius: 50%;\n",
              "      cursor: pointer;\n",
              "      display: none;\n",
              "      fill: #1967D2;\n",
              "      height: 32px;\n",
              "      padding: 0 0 0 0;\n",
              "      width: 32px;\n",
              "    }\n",
              "\n",
              "    .colab-df-convert:hover {\n",
              "      background-color: #E2EBFA;\n",
              "      box-shadow: 0px 1px 2px rgba(60, 64, 67, 0.3), 0px 1px 3px 1px rgba(60, 64, 67, 0.15);\n",
              "      fill: #174EA6;\n",
              "    }\n",
              "\n",
              "    [theme=dark] .colab-df-convert {\n",
              "      background-color: #3B4455;\n",
              "      fill: #D2E3FC;\n",
              "    }\n",
              "\n",
              "    [theme=dark] .colab-df-convert:hover {\n",
              "      background-color: #434B5C;\n",
              "      box-shadow: 0px 1px 3px 1px rgba(0, 0, 0, 0.15);\n",
              "      filter: drop-shadow(0px 1px 2px rgba(0, 0, 0, 0.3));\n",
              "      fill: #FFFFFF;\n",
              "    }\n",
              "  </style>\n",
              "\n",
              "      <script>\n",
              "        const buttonEl =\n",
              "          document.querySelector('#df-893db1b7-cd5a-42fd-a4cc-46dd1602b426 button.colab-df-convert');\n",
              "        buttonEl.style.display =\n",
              "          google.colab.kernel.accessAllowed ? 'block' : 'none';\n",
              "\n",
              "        async function convertToInteractive(key) {\n",
              "          const element = document.querySelector('#df-893db1b7-cd5a-42fd-a4cc-46dd1602b426');\n",
              "          const dataTable =\n",
              "            await google.colab.kernel.invokeFunction('convertToInteractive',\n",
              "                                                     [key], {});\n",
              "          if (!dataTable) return;\n",
              "\n",
              "          const docLinkHtml = 'Like what you see? Visit the ' +\n",
              "            '<a target=\"_blank\" href=https://colab.research.google.com/notebooks/data_table.ipynb>data table notebook</a>'\n",
              "            + ' to learn more about interactive tables.';\n",
              "          element.innerHTML = '';\n",
              "          dataTable['output_type'] = 'display_data';\n",
              "          await google.colab.output.renderOutput(dataTable, element);\n",
              "          const docLink = document.createElement('div');\n",
              "          docLink.innerHTML = docLinkHtml;\n",
              "          element.appendChild(docLink);\n",
              "        }\n",
              "      </script>\n",
              "    </div>\n",
              "  </div>\n",
              "  "
            ],
            "text/plain": [
              "                                                             tag  \\\n",
              "Sentence                                                           \n",
              "Sentence:0                           [O, O, O, B-ACTOR, I-ACTOR]   \n",
              "Sentence:1          [O, O, O, O, B-ACTOR, I-ACTOR, O, O, B-YEAR]   \n",
              "Sentence:10                                 [O, O, O, O, B-PLOT]   \n",
              "Sentence:100   [O, O, O, B-RATINGS_AVERAGE, I-RATINGS_AVERAGE...   \n",
              "Sentence:1000                  [O, O, O, B-ACTOR, I-ACTOR, O, O]   \n",
              "\n",
              "                                                           token  \\\n",
              "Sentence                                                           \n",
              "Sentence:0                   [what, movies, star, bruce, willis]   \n",
              "Sentence:1     [show, me, films, with, drew, barrymore, from,...   \n",
              "Sentence:10               [what, movie, is, references, zydrate]   \n",
              "Sentence:100   [what, is, the, top, rated, martin, scorsesy, ...   \n",
              "Sentence:1000    [show, me, a, christopher, lee, movie, trailer]   \n",
              "\n",
              "                                                           sent  \n",
              "Sentence                                                         \n",
              "Sentence:0                        what movies star bruce willis  \n",
              "Sentence:1     show me films with drew barrymore from the 1980s  \n",
              "Sentence:10                    what movie is references zydrate  \n",
              "Sentence:100        what is the top rated martin scorsesy moive  \n",
              "Sentence:1000           show me a christopher lee movie trailer  "
            ]
          },
          "execution_count": 52,
          "metadata": {},
          "output_type": "execute_result"
        }
      ],
      "source": [
        "# generating sentence\n",
        "train_df = df\n",
        "train_df = train_df.groupby(\"Sentence\").agg(list)\n",
        "\n",
        "# training model on only 200 samples due to resource unavailability\n",
        "train_df = train_df.iloc[:200,:]\n",
        "train_df['sent'] = train_df['token'].apply(lambda x: ' '.join(x))\n",
        "\n",
        "train_df.head()"
      ]
    },
    {
      "cell_type": "code",
      "execution_count": 53,
      "metadata": {
        "id": "DYPNHncAtKv8"
      },
      "outputs": [],
      "source": [
        "# defining sentence to ner tag function\n",
        "def sent2label(sent, tag, token):\n",
        "    lst = []\n",
        "    for idx,val in enumerate(tag):\n",
        "        if val!=\"O\":\n",
        "            lst.append({\"start\":sent.find(token[idx]), \"end\":sent.find(token[idx])+len(token[idx]), \"label\":val})\n",
        "    return lst"
      ]
    },
    {
      "cell_type": "code",
      "execution_count": 54,
      "metadata": {
        "colab": {
          "base_uri": "https://localhost:8080/",
          "height": 403
        },
        "id": "9bNWSxYstKv8",
        "outputId": "8b5329ee-2d58-4bae-b346-2be8c928a7f1"
      },
      "outputs": [
        {
          "data": {
            "text/html": [
              "\n",
              "  <div id=\"df-a966982e-4ccb-472e-a38b-50b755d245af\">\n",
              "    <div class=\"colab-df-container\">\n",
              "      <div>\n",
              "<style scoped>\n",
              "    .dataframe tbody tr th:only-of-type {\n",
              "        vertical-align: middle;\n",
              "    }\n",
              "\n",
              "    .dataframe tbody tr th {\n",
              "        vertical-align: top;\n",
              "    }\n",
              "\n",
              "    .dataframe thead th {\n",
              "        text-align: right;\n",
              "    }\n",
              "</style>\n",
              "<table border=\"1\" class=\"dataframe\">\n",
              "  <thead>\n",
              "    <tr style=\"text-align: right;\">\n",
              "      <th></th>\n",
              "      <th>tag</th>\n",
              "      <th>token</th>\n",
              "      <th>sent</th>\n",
              "      <th>spans</th>\n",
              "    </tr>\n",
              "    <tr>\n",
              "      <th>Sentence</th>\n",
              "      <th></th>\n",
              "      <th></th>\n",
              "      <th></th>\n",
              "      <th></th>\n",
              "    </tr>\n",
              "  </thead>\n",
              "  <tbody>\n",
              "    <tr>\n",
              "      <th>Sentence:0</th>\n",
              "      <td>[O, O, O, B-ACTOR, I-ACTOR]</td>\n",
              "      <td>[what, movies, star, bruce, willis]</td>\n",
              "      <td>what movies star bruce willis</td>\n",
              "      <td>[{'start': 17, 'end': 22, 'label': 'B-ACTOR'},...</td>\n",
              "    </tr>\n",
              "    <tr>\n",
              "      <th>Sentence:1</th>\n",
              "      <td>[O, O, O, O, B-ACTOR, I-ACTOR, O, O, B-YEAR]</td>\n",
              "      <td>[show, me, films, with, drew, barrymore, from,...</td>\n",
              "      <td>show me films with drew barrymore from the 1980s</td>\n",
              "      <td>[{'start': 19, 'end': 23, 'label': 'B-ACTOR'},...</td>\n",
              "    </tr>\n",
              "    <tr>\n",
              "      <th>Sentence:10</th>\n",
              "      <td>[O, O, O, O, B-PLOT]</td>\n",
              "      <td>[what, movie, is, references, zydrate]</td>\n",
              "      <td>what movie is references zydrate</td>\n",
              "      <td>[{'start': 25, 'end': 32, 'label': 'B-PLOT'}]</td>\n",
              "    </tr>\n",
              "    <tr>\n",
              "      <th>Sentence:100</th>\n",
              "      <td>[O, O, O, B-RATINGS_AVERAGE, I-RATINGS_AVERAGE...</td>\n",
              "      <td>[what, is, the, top, rated, martin, scorsesy, ...</td>\n",
              "      <td>what is the top rated martin scorsesy moive</td>\n",
              "      <td>[{'start': 12, 'end': 15, 'label': 'B-RATINGS_...</td>\n",
              "    </tr>\n",
              "    <tr>\n",
              "      <th>Sentence:1000</th>\n",
              "      <td>[O, O, O, B-ACTOR, I-ACTOR, O, O]</td>\n",
              "      <td>[show, me, a, christopher, lee, movie, trailer]</td>\n",
              "      <td>show me a christopher lee movie trailer</td>\n",
              "      <td>[{'start': 10, 'end': 21, 'label': 'B-ACTOR'},...</td>\n",
              "    </tr>\n",
              "  </tbody>\n",
              "</table>\n",
              "</div>\n",
              "      <button class=\"colab-df-convert\" onclick=\"convertToInteractive('df-a966982e-4ccb-472e-a38b-50b755d245af')\"\n",
              "              title=\"Convert this dataframe to an interactive table.\"\n",
              "              style=\"display:none;\">\n",
              "        \n",
              "  <svg xmlns=\"http://www.w3.org/2000/svg\" height=\"24px\"viewBox=\"0 0 24 24\"\n",
              "       width=\"24px\">\n",
              "    <path d=\"M0 0h24v24H0V0z\" fill=\"none\"/>\n",
              "    <path d=\"M18.56 5.44l.94 2.06.94-2.06 2.06-.94-2.06-.94-.94-2.06-.94 2.06-2.06.94zm-11 1L8.5 8.5l.94-2.06 2.06-.94-2.06-.94L8.5 2.5l-.94 2.06-2.06.94zm10 10l.94 2.06.94-2.06 2.06-.94-2.06-.94-.94-2.06-.94 2.06-2.06.94z\"/><path d=\"M17.41 7.96l-1.37-1.37c-.4-.4-.92-.59-1.43-.59-.52 0-1.04.2-1.43.59L10.3 9.45l-7.72 7.72c-.78.78-.78 2.05 0 2.83L4 21.41c.39.39.9.59 1.41.59.51 0 1.02-.2 1.41-.59l7.78-7.78 2.81-2.81c.8-.78.8-2.07 0-2.86zM5.41 20L4 18.59l7.72-7.72 1.47 1.35L5.41 20z\"/>\n",
              "  </svg>\n",
              "      </button>\n",
              "      \n",
              "  <style>\n",
              "    .colab-df-container {\n",
              "      display:flex;\n",
              "      flex-wrap:wrap;\n",
              "      gap: 12px;\n",
              "    }\n",
              "\n",
              "    .colab-df-convert {\n",
              "      background-color: #E8F0FE;\n",
              "      border: none;\n",
              "      border-radius: 50%;\n",
              "      cursor: pointer;\n",
              "      display: none;\n",
              "      fill: #1967D2;\n",
              "      height: 32px;\n",
              "      padding: 0 0 0 0;\n",
              "      width: 32px;\n",
              "    }\n",
              "\n",
              "    .colab-df-convert:hover {\n",
              "      background-color: #E2EBFA;\n",
              "      box-shadow: 0px 1px 2px rgba(60, 64, 67, 0.3), 0px 1px 3px 1px rgba(60, 64, 67, 0.15);\n",
              "      fill: #174EA6;\n",
              "    }\n",
              "\n",
              "    [theme=dark] .colab-df-convert {\n",
              "      background-color: #3B4455;\n",
              "      fill: #D2E3FC;\n",
              "    }\n",
              "\n",
              "    [theme=dark] .colab-df-convert:hover {\n",
              "      background-color: #434B5C;\n",
              "      box-shadow: 0px 1px 3px 1px rgba(0, 0, 0, 0.15);\n",
              "      filter: drop-shadow(0px 1px 2px rgba(0, 0, 0, 0.3));\n",
              "      fill: #FFFFFF;\n",
              "    }\n",
              "  </style>\n",
              "\n",
              "      <script>\n",
              "        const buttonEl =\n",
              "          document.querySelector('#df-a966982e-4ccb-472e-a38b-50b755d245af button.colab-df-convert');\n",
              "        buttonEl.style.display =\n",
              "          google.colab.kernel.accessAllowed ? 'block' : 'none';\n",
              "\n",
              "        async function convertToInteractive(key) {\n",
              "          const element = document.querySelector('#df-a966982e-4ccb-472e-a38b-50b755d245af');\n",
              "          const dataTable =\n",
              "            await google.colab.kernel.invokeFunction('convertToInteractive',\n",
              "                                                     [key], {});\n",
              "          if (!dataTable) return;\n",
              "\n",
              "          const docLinkHtml = 'Like what you see? Visit the ' +\n",
              "            '<a target=\"_blank\" href=https://colab.research.google.com/notebooks/data_table.ipynb>data table notebook</a>'\n",
              "            + ' to learn more about interactive tables.';\n",
              "          element.innerHTML = '';\n",
              "          dataTable['output_type'] = 'display_data';\n",
              "          await google.colab.output.renderOutput(dataTable, element);\n",
              "          const docLink = document.createElement('div');\n",
              "          docLink.innerHTML = docLinkHtml;\n",
              "          element.appendChild(docLink);\n",
              "        }\n",
              "      </script>\n",
              "    </div>\n",
              "  </div>\n",
              "  "
            ],
            "text/plain": [
              "                                                             tag  \\\n",
              "Sentence                                                           \n",
              "Sentence:0                           [O, O, O, B-ACTOR, I-ACTOR]   \n",
              "Sentence:1          [O, O, O, O, B-ACTOR, I-ACTOR, O, O, B-YEAR]   \n",
              "Sentence:10                                 [O, O, O, O, B-PLOT]   \n",
              "Sentence:100   [O, O, O, B-RATINGS_AVERAGE, I-RATINGS_AVERAGE...   \n",
              "Sentence:1000                  [O, O, O, B-ACTOR, I-ACTOR, O, O]   \n",
              "\n",
              "                                                           token  \\\n",
              "Sentence                                                           \n",
              "Sentence:0                   [what, movies, star, bruce, willis]   \n",
              "Sentence:1     [show, me, films, with, drew, barrymore, from,...   \n",
              "Sentence:10               [what, movie, is, references, zydrate]   \n",
              "Sentence:100   [what, is, the, top, rated, martin, scorsesy, ...   \n",
              "Sentence:1000    [show, me, a, christopher, lee, movie, trailer]   \n",
              "\n",
              "                                                           sent  \\\n",
              "Sentence                                                          \n",
              "Sentence:0                        what movies star bruce willis   \n",
              "Sentence:1     show me films with drew barrymore from the 1980s   \n",
              "Sentence:10                    what movie is references zydrate   \n",
              "Sentence:100        what is the top rated martin scorsesy moive   \n",
              "Sentence:1000           show me a christopher lee movie trailer   \n",
              "\n",
              "                                                           spans  \n",
              "Sentence                                                          \n",
              "Sentence:0     [{'start': 17, 'end': 22, 'label': 'B-ACTOR'},...  \n",
              "Sentence:1     [{'start': 19, 'end': 23, 'label': 'B-ACTOR'},...  \n",
              "Sentence:10        [{'start': 25, 'end': 32, 'label': 'B-PLOT'}]  \n",
              "Sentence:100   [{'start': 12, 'end': 15, 'label': 'B-RATINGS_...  \n",
              "Sentence:1000  [{'start': 10, 'end': 21, 'label': 'B-ACTOR'},...  "
            ]
          },
          "execution_count": 54,
          "metadata": {},
          "output_type": "execute_result"
        }
      ],
      "source": [
        "# generating spans for Spacy format\n",
        "train_df['spans'] = train_df.apply(lambda x: sent2label(x.sent, x.tag, x.token), axis=1)\n",
        "train_df.head()"
      ]
    },
    {
      "cell_type": "code",
      "execution_count": 55,
      "metadata": {
        "colab": {
          "base_uri": "https://localhost:8080/"
        },
        "id": "MRJA3cBBaf15",
        "outputId": "74f7edcc-015c-4a69-8eca-6257a3bac7bb"
      },
      "outputs": [
        {
          "name": "stdout",
          "output_type": "stream",
          "text": [
            "[{'entities': [(17, 22, 'B-ACTOR')], 'text': 'what movies star bruce willis'}, {'entities': [(23, 29, 'I-ACTOR')], 'text': 'what movies star bruce willis'}, {'entities': [(19, 23, 'B-ACTOR')], 'text': 'show me films with drew barrymore from the 1980s'}, {'entities': [(24, 33, 'I-ACTOR')], 'text': 'show me films with drew barrymore from the 1980s'}, {'entities': [(43, 48, 'B-YEAR')], 'text': 'show me films with drew barrymore from the 1980s'}]\n"
          ]
        }
      ],
      "source": [
        "# genetaing train data is Spacy format\n",
        "annotations = []\n",
        "\n",
        "for x in range(train_df.shape[0]):\n",
        "    spans_lst = train_df['spans'][x]\n",
        "    if len(spans_lst)>0:\n",
        "        for i in range(len(spans_lst)):\n",
        "            dct={}\n",
        "            spans_dict = spans_lst[i]\n",
        "            dct['entities'] = [(int(spans_dict['start']), int(spans_dict['end']), spans_dict['label'])]\n",
        "            dct['text'] = train_df['sent'][x]\n",
        "            annotations.append(dct)\n",
        "    \n",
        "print(annotations[:5])\n",
        "\n",
        "training_data = {'classes' : df['tag'].unique(), 'annotations' : annotations}"
      ]
    },
    {
      "cell_type": "code",
      "execution_count": 56,
      "metadata": {
        "colab": {
          "base_uri": "https://localhost:8080/"
        },
        "id": "cIpSKZv0g_WK",
        "outputId": "aa5e65d0-cd72-4dd7-e68e-495c9956e16e"
      },
      "outputs": [
        {
          "name": "stderr",
          "output_type": "stream",
          "text": [
            "100%|██████████| 569/569 [00:00<00:00, 6764.22it/s]"
          ]
        },
        {
          "name": "stdout",
          "output_type": "stream",
          "text": [
            "Skipping entity\n",
            "Skipping entity\n",
            "Skipping entity\n",
            "Skipping entity\n",
            "Skipping entity\n",
            "Skipping entity\n",
            "Skipping entity\n",
            "Skipping entity\n",
            "Skipping entity\n",
            "Skipping entity\n",
            "Skipping entity\n",
            "Skipping entity\n"
          ]
        },
        {
          "name": "stderr",
          "output_type": "stream",
          "text": [
            "\n"
          ]
        }
      ],
      "source": [
        "# creating Docbin format for spacy\n",
        "from spacy.util import filter_spans\n",
        "\n",
        "for training_example  in tqdm(training_data['annotations']): \n",
        "    text = training_example['text']\n",
        "    labels = training_example['entities']\n",
        "    doc = nlp.make_doc(text) \n",
        "    ents = []\n",
        "    for start, end, label in labels:\n",
        "        span = doc.char_span(start, end, label=label, alignment_mode=\"contract\")\n",
        "        if span is None:\n",
        "            print(\"Skipping entity\")\n",
        "        else:\n",
        "            ents.append(span)\n",
        "    filtered_ents = filter_spans(ents)\n",
        "    doc.ents = filtered_ents \n",
        "    doc_bin.add(doc)\n",
        "\n",
        "doc_bin.to_disk(\"training_data.spacy\") # save the docbin object"
      ]
    },
    {
      "cell_type": "markdown",
      "metadata": {
        "id": "mG5V5fxNbR-e"
      },
      "source": [
        "## Define the Parameters for your model training.\n"
      ]
    },
    {
      "cell_type": "code",
      "execution_count": 57,
      "metadata": {
        "colab": {
          "base_uri": "https://localhost:8080/"
        },
        "id": "Ae-dDJoCbUiy",
        "outputId": "53de2d63-2177-4de7-f476-b3239471e1b9"
      },
      "outputs": [
        {
          "name": "stdout",
          "output_type": "stream",
          "text": [
            "\u001b[38;5;2m✔ Auto-filled config with all values\u001b[0m\n",
            "\u001b[38;5;2m✔ Saved config\u001b[0m\n",
            "config.cfg\n",
            "You can now add your data and train your pipeline:\n",
            "python -m spacy train config.cfg --paths.train ./train.spacy --paths.dev ./dev.spacy\n"
          ]
        }
      ],
      "source": [
        "# define the variables like Number of iterations,model output dir and model   etc..\n",
        "\n",
        "!python -m spacy init fill-config base_config.cfg config.cfg"
      ]
    },
    {
      "cell_type": "markdown",
      "metadata": {
        "id": "UA4FVIeRcVxE"
      },
      "source": [
        "## Model Training"
      ]
    },
    {
      "cell_type": "code",
      "execution_count": 58,
      "metadata": {
        "colab": {
          "base_uri": "https://localhost:8080/"
        },
        "id": "6dK22yEZcYqs",
        "outputId": "58d4abf8-1e65-4b2d-ddd3-edb0299535c0"
      },
      "outputs": [
        {
          "name": "stdout",
          "output_type": "stream",
          "text": [
            "\u001b[38;5;4mℹ Saving to output directory: .\u001b[0m\n",
            "\u001b[38;5;4mℹ Using GPU: 0\u001b[0m\n",
            "\u001b[1m\n",
            "=========================== Initializing pipeline ===========================\u001b[0m\n",
            "[2023-01-14 15:34:03,430] [INFO] Set up nlp object from config\n",
            "INFO:spacy:Set up nlp object from config\n",
            "[2023-01-14 15:34:03,440] [INFO] Pipeline: ['tok2vec', 'ner']\n",
            "INFO:spacy:Pipeline: ['tok2vec', 'ner']\n",
            "[2023-01-14 15:34:03,443] [INFO] Created vocabulary\n",
            "INFO:spacy:Created vocabulary\n",
            "[2023-01-14 15:34:03,444] [INFO] Finished initializing nlp object\n",
            "INFO:spacy:Finished initializing nlp object\n",
            "[2023-01-14 15:34:04,289] [INFO] Initialized pipeline components: ['tok2vec', 'ner']\n",
            "INFO:spacy:Initialized pipeline components: ['tok2vec', 'ner']\n",
            "\u001b[38;5;2m✔ Initialized pipeline\u001b[0m\n",
            "\u001b[1m\n",
            "============================= Training pipeline =============================\u001b[0m\n",
            "\u001b[38;5;4mℹ Pipeline: ['tok2vec', 'ner']\u001b[0m\n",
            "\u001b[38;5;4mℹ Initial learn rate: 0.001\u001b[0m\n",
            "E    #       LOSS TOK2VEC  LOSS NER  ENTS_F  ENTS_P  ENTS_R  SCORE \n",
            "---  ------  ------------  --------  ------  ------  ------  ------\n",
            "  0       0          0.00     61.51    0.00    0.00    0.00    0.00\n",
            "  4     200         94.20   4849.13    8.76   50.91    4.79    0.09\n",
            "  9     400        193.73   4819.25   24.42   48.97   16.27    0.24\n",
            " 15     600        253.93   5719.43   27.97   44.57   20.38    0.28\n",
            " 22     800        287.76   6889.94   25.80   45.65   17.98    0.26\n",
            " 32    1000        308.61   8128.07   27.38   52.68   18.49    0.27\n",
            " 43    1200        340.74   9684.19   23.45   55.06   14.90    0.23\n",
            " 57    1400        407.09  11683.06   27.56   52.66   18.66    0.28\n",
            " 73    1600        451.54  14056.99   23.56   58.90   14.73    0.24\n",
            " 94    1800        535.82  16849.66   27.12   56.83   17.81    0.27\n",
            "119    2000        608.16  20095.77   28.79   56.22   19.35    0.29\n",
            "149    2200        712.75  24493.94   28.90   55.61   19.52    0.29\n",
            "186    2400        809.58  29272.36   25.80   57.74   16.61    0.26\n",
            "226    2600        852.54  31876.20   29.69   55.92   20.21    0.30\n",
            "266    2800        851.63  31751.89   27.15   57.14   17.81    0.27\n",
            "306    3000        812.01  31688.28   26.19   57.56   16.95    0.26\n",
            "346    3200        802.55  31720.41   27.53   56.99   18.15    0.28\n",
            "386    3400        773.59  31613.88   28.06   56.48   18.66    0.28\n",
            "426    3600        750.47  31577.71   25.60   57.83   16.44    0.26\n",
            "466    3800        722.96  31597.10   25.80   57.74   16.61    0.26\n",
            "506    4000        684.09  31534.63   29.04   56.72   19.52    0.29\n",
            "546    4200        690.91  31467.96   28.24   56.41   18.84    0.28\n",
            "\u001b[38;5;2m✔ Saved pipeline to output directory\u001b[0m\n",
            "model-last\n"
          ]
        }
      ],
      "source": [
        "# Code for model training\n",
        "\n",
        "!python -m spacy train config.cfg --output ./ --paths.train ./training_data.spacy --paths.dev ./training_data.spacy --gpu-id 0"
      ]
    }
  ],
  "metadata": {
    "accelerator": "GPU",
    "colab": {
      "provenance": []
    },
    "gpuClass": "standard",
    "kernelspec": {
      "display_name": "base",
      "language": "python",
      "name": "python3"
    },
    "language_info": {
      "codemirror_mode": {
        "name": "ipython",
        "version": 3
      },
      "file_extension": ".py",
      "mimetype": "text/x-python",
      "name": "python",
      "nbconvert_exporter": "python",
      "pygments_lexer": "ipython3",
      "version": "3.9.12 (main, Apr  4 2022, 05:22:27) [MSC v.1916 64 bit (AMD64)]"
    },
    "vscode": {
      "interpreter": {
        "hash": "ad2bdc8ecc057115af97d19610ffacc2b4e99fae6737bb82f5d7fb13d2f2c186"
      }
    }
  },
  "nbformat": 4,
  "nbformat_minor": 0
}
